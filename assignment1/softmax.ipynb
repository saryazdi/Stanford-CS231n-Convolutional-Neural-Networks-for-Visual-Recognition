{
 "cells": [
  {
   "cell_type": "markdown",
   "metadata": {},
   "source": [
    "# Softmax exercise\n",
    "\n",
    "*Complete and hand in this completed worksheet (including its outputs and any supporting code outside of the worksheet) with your assignment submission. For more details see the [assignments page](http://vision.stanford.edu/teaching/cs231n/assignments.html) on the course website.*\n",
    "\n",
    "This exercise is analogous to the SVM exercise. You will:\n",
    "\n",
    "- implement a fully-vectorized **loss function** for the Softmax classifier\n",
    "- implement the fully-vectorized expression for its **analytic gradient**\n",
    "- **check your implementation** with numerical gradient\n",
    "- use a validation set to **tune the learning rate and regularization** strength\n",
    "- **optimize** the loss function with **SGD**\n",
    "- **visualize** the final learned weights\n"
   ]
  },
  {
   "cell_type": "code",
   "execution_count": 1,
   "metadata": {},
   "outputs": [],
   "source": [
    "import random\n",
    "import numpy as np\n",
    "from cs231n.data_utils import load_CIFAR10\n",
    "import matplotlib.pyplot as plt\n",
    "\n",
    "from __future__ import print_function\n",
    "\n",
    "%matplotlib inline\n",
    "plt.rcParams['figure.figsize'] = (10.0, 8.0) # set default size of plots\n",
    "plt.rcParams['image.interpolation'] = 'nearest'\n",
    "plt.rcParams['image.cmap'] = 'gray'\n",
    "\n",
    "# for auto-reloading extenrnal modules\n",
    "# see http://stackoverflow.com/questions/1907993/autoreload-of-modules-in-ipython\n",
    "%load_ext autoreload\n",
    "%autoreload 2"
   ]
  },
  {
   "cell_type": "code",
   "execution_count": 2,
   "metadata": {},
   "outputs": [
    {
     "name": "stdout",
     "output_type": "stream",
     "text": [
      "Train data shape:  (49000, 3073)\n",
      "Train labels shape:  (49000,)\n",
      "Validation data shape:  (1000, 3073)\n",
      "Validation labels shape:  (1000,)\n",
      "Test data shape:  (1000, 3073)\n",
      "Test labels shape:  (1000,)\n",
      "dev data shape:  (500, 3073)\n",
      "dev labels shape:  (500,)\n"
     ]
    }
   ],
   "source": [
    "def get_CIFAR10_data(num_training=49000, num_validation=1000, num_test=1000, num_dev=500):\n",
    "    \"\"\"\n",
    "    Load the CIFAR-10 dataset from disk and perform preprocessing to prepare\n",
    "    it for the linear classifier. These are the same steps as we used for the\n",
    "    SVM, but condensed to a single function.  \n",
    "    \"\"\"\n",
    "    # Load the raw CIFAR-10 data\n",
    "    cifar10_dir = 'cs231n/datasets/cifar-10-batches-py'\n",
    "    X_train, y_train, X_test, y_test = load_CIFAR10(cifar10_dir)\n",
    "    \n",
    "    # subsample the data\n",
    "    mask = list(range(num_training, num_training + num_validation))\n",
    "    X_val = X_train[mask]\n",
    "    y_val = y_train[mask]\n",
    "    mask = list(range(num_training))\n",
    "    X_train = X_train[mask]\n",
    "    y_train = y_train[mask]\n",
    "    mask = list(range(num_test))\n",
    "    X_test = X_test[mask]\n",
    "    y_test = y_test[mask]\n",
    "    mask = np.random.choice(num_training, num_dev, replace=False)\n",
    "    X_dev = X_train[mask]\n",
    "    y_dev = y_train[mask]\n",
    "    \n",
    "    # Preprocessing: reshape the image data into rows\n",
    "    X_train = np.reshape(X_train, (X_train.shape[0], -1))\n",
    "    X_val = np.reshape(X_val, (X_val.shape[0], -1))\n",
    "    X_test = np.reshape(X_test, (X_test.shape[0], -1))\n",
    "    X_dev = np.reshape(X_dev, (X_dev.shape[0], -1))\n",
    "    \n",
    "    # Normalize the data: subtract the mean image\n",
    "    mean_image = np.mean(X_train, axis = 0)\n",
    "    X_train -= mean_image\n",
    "    X_val -= mean_image\n",
    "    X_test -= mean_image\n",
    "    X_dev -= mean_image\n",
    "    \n",
    "    # add bias dimension and transform into columns\n",
    "    X_train = np.hstack([X_train, np.ones((X_train.shape[0], 1))])\n",
    "    X_val = np.hstack([X_val, np.ones((X_val.shape[0], 1))])\n",
    "    X_test = np.hstack([X_test, np.ones((X_test.shape[0], 1))])\n",
    "    X_dev = np.hstack([X_dev, np.ones((X_dev.shape[0], 1))])\n",
    "    \n",
    "    return X_train, y_train, X_val, y_val, X_test, y_test, X_dev, y_dev\n",
    "\n",
    "\n",
    "# Invoke the above function to get our data.\n",
    "X_train, y_train, X_val, y_val, X_test, y_test, X_dev, y_dev = get_CIFAR10_data()\n",
    "print('Train data shape: ', X_train.shape)\n",
    "print('Train labels shape: ', y_train.shape)\n",
    "print('Validation data shape: ', X_val.shape)\n",
    "print('Validation labels shape: ', y_val.shape)\n",
    "print('Test data shape: ', X_test.shape)\n",
    "print('Test labels shape: ', y_test.shape)\n",
    "print('dev data shape: ', X_dev.shape)\n",
    "print('dev labels shape: ', y_dev.shape)"
   ]
  },
  {
   "cell_type": "markdown",
   "metadata": {},
   "source": [
    "## Softmax Classifier\n",
    "\n",
    "Your code for this section will all be written inside **cs231n/classifiers/softmax.py**. \n"
   ]
  },
  {
   "cell_type": "code",
   "execution_count": 4,
   "metadata": {},
   "outputs": [
    {
     "name": "stdout",
     "output_type": "stream",
     "text": [
      "loss: 2.397322\n",
      "sanity check: 2.302585\n"
     ]
    }
   ],
   "source": [
    "# First implement the naive softmax loss function with nested loops.\n",
    "# Open the file cs231n/classifiers/softmax.py and implement the\n",
    "# softmax_loss_naive function.\n",
    "\n",
    "from cs231n.classifiers.softmax import softmax_loss_naive\n",
    "import time\n",
    "\n",
    "# Generate a random softmax weight matrix and use it to compute the loss.\n",
    "W = np.random.randn(3073, 10) * 0.0001\n",
    "loss, grad = softmax_loss_naive(W, X_dev, y_dev, 0.0)\n",
    "\n",
    "# As a rough sanity check, our loss should be something close to -log(0.1).\n",
    "print('loss: %f' % loss)\n",
    "print('sanity check: %f' % (-np.log(0.1)))"
   ]
  },
  {
   "cell_type": "markdown",
   "metadata": {},
   "source": [
    "## Inline Question 1:\n",
    "Why do we expect our loss to be close to -log(0.1)? Explain briefly.**\n",
    "\n",
    "**Your answer:** Because in the beginning, our weights are initialized to a small value very close to zero. Therefore the class score for all classes will be close to zero (X.dot(W) a matrix of almost entirely zeros). Since exp(0)=1, the softmax of the true class will be equal to 1/c. Therefore the cross-entropy loss of our softmax would be -log(1/c).\n"
   ]
  },
  {
   "cell_type": "code",
   "execution_count": 6,
   "metadata": {},
   "outputs": [
    {
     "name": "stdout",
     "output_type": "stream",
     "text": [
      "numerical: 0.181077 analytic: 0.181077, relative error: 5.589392e-08\n",
      "numerical: 0.675056 analytic: 0.675056, relative error: 2.990281e-08\n",
      "numerical: -0.537719 analytic: -0.537719, relative error: 2.015493e-08\n",
      "numerical: 0.656242 analytic: 0.656242, relative error: 4.923377e-09\n",
      "numerical: -3.478096 analytic: -3.478096, relative error: 4.483275e-09\n",
      "numerical: -0.442256 analytic: -0.442256, relative error: 3.782100e-08\n",
      "numerical: -2.696445 analytic: -2.696445, relative error: 8.388285e-09\n",
      "numerical: -0.089895 analytic: -0.089895, relative error: 3.931029e-07\n",
      "numerical: 0.921299 analytic: 0.921299, relative error: 4.575763e-09\n",
      "numerical: 1.687050 analytic: 1.687049, relative error: 2.420362e-08\n",
      "numerical: 3.345969 analytic: 3.345969, relative error: 8.095712e-09\n",
      "numerical: -4.266481 analytic: -4.266481, relative error: 5.033658e-09\n",
      "numerical: -0.267091 analytic: -0.267091, relative error: 7.357665e-08\n",
      "numerical: -1.523839 analytic: -1.523839, relative error: 3.771558e-09\n",
      "numerical: -0.134299 analytic: -0.134299, relative error: 1.326036e-07\n",
      "numerical: 0.481771 analytic: 0.481771, relative error: 1.466503e-07\n",
      "numerical: -0.470386 analytic: -0.470386, relative error: 8.616243e-08\n",
      "numerical: 2.748175 analytic: 2.748175, relative error: 1.756658e-08\n",
      "numerical: 2.311903 analytic: 2.311903, relative error: 1.550255e-08\n",
      "numerical: -1.855663 analytic: -1.855664, relative error: 2.215385e-08\n"
     ]
    }
   ],
   "source": [
    "# Complete the implementation of softmax_loss_naive and implement a (naive)\n",
    "# version of the gradient that uses nested loops.\n",
    "loss, grad = softmax_loss_naive(W, X_dev, y_dev, 0.0)\n",
    "\n",
    "# As we did for the SVM, use numeric gradient checking as a debugging tool.\n",
    "# The numeric gradient should be close to the analytic gradient.\n",
    "from cs231n.gradient_check import grad_check_sparse\n",
    "f = lambda w: softmax_loss_naive(w, X_dev, y_dev, 0.0)[0]\n",
    "grad_numerical = grad_check_sparse(f, W, grad, 10)\n",
    "\n",
    "# similar to SVM case, do another gradient check with regularization\n",
    "loss, grad = softmax_loss_naive(W, X_dev, y_dev, 5e1)\n",
    "f = lambda w: softmax_loss_naive(w, X_dev, y_dev, 5e1)[0]\n",
    "grad_numerical = grad_check_sparse(f, W, grad, 10)"
   ]
  },
  {
   "cell_type": "code",
   "execution_count": 10,
   "metadata": {},
   "outputs": [
    {
     "name": "stdout",
     "output_type": "stream",
     "text": [
      "naive loss: 2.397322e+00 computed in 0.110200s\n",
      "vectorized loss: 2.397322e+00 computed in 0.013721s\n",
      "Loss difference: 0.000000\n",
      "Gradient difference: 0.000000\n"
     ]
    }
   ],
   "source": [
    "# Now that we have a naive implementation of the softmax loss function and its gradient,\n",
    "# implement a vectorized version in softmax_loss_vectorized.\n",
    "# The two versions should compute the same results, but the vectorized version should be\n",
    "# much faster.\n",
    "tic = time.time()\n",
    "loss_naive, grad_naive = softmax_loss_naive(W, X_dev, y_dev, 0.000005)\n",
    "toc = time.time()\n",
    "print('naive loss: %e computed in %fs' % (loss_naive, toc - tic))\n",
    "\n",
    "from cs231n.classifiers.softmax import softmax_loss_vectorized\n",
    "tic = time.time()\n",
    "loss_vectorized, grad_vectorized = softmax_loss_vectorized(W, X_dev, y_dev, 0.000005)\n",
    "toc = time.time()\n",
    "print('vectorized loss: %e computed in %fs' % (loss_vectorized, toc - tic))\n",
    "\n",
    "# As we did for the SVM, we use the Frobenius norm to compare the two versions\n",
    "# of the gradient.\n",
    "grad_difference = np.linalg.norm(grad_naive - grad_vectorized, ord='fro')\n",
    "print('Loss difference: %f' % np.abs(loss_naive - loss_vectorized))\n",
    "print('Gradient difference: %f' % grad_difference)"
   ]
  },
  {
   "cell_type": "code",
   "execution_count": 19,
   "metadata": {},
   "outputs": [
    {
     "name": "stdout",
     "output_type": "stream",
     "text": [
      "lr 3.209716e-07 reg 1.713864e+04 train accuracy: 0.345755 val accuracy: 0.361000\n",
      "lr 3.306419e-07 reg 8.106095e+04 train accuracy: 0.280102 val accuracy: 0.304000\n",
      "lr 3.309461e-07 reg 7.795946e+04 train accuracy: 0.302265 val accuracy: 0.312000\n",
      "lr 3.522127e-07 reg 2.608403e+04 train accuracy: 0.327837 val accuracy: 0.347000\n",
      "lr 3.595829e-07 reg 1.035485e+04 train accuracy: 0.351959 val accuracy: 0.356000\n",
      "lr 3.704965e-07 reg 7.358365e+04 train accuracy: 0.289490 val accuracy: 0.312000\n",
      "lr 4.002590e-07 reg 3.370421e+04 train accuracy: 0.322959 val accuracy: 0.336000\n",
      "lr 4.181221e-07 reg 1.063495e+04 train accuracy: 0.355898 val accuracy: 0.364000\n",
      "lr 4.293373e-07 reg 3.444353e+04 train accuracy: 0.308776 val accuracy: 0.328000\n",
      "lr 4.294189e-07 reg 1.348221e+04 train accuracy: 0.339245 val accuracy: 0.356000\n",
      "lr 4.924642e-07 reg 8.006650e+04 train accuracy: 0.289184 val accuracy: 0.293000\n",
      "lr 5.282231e-07 reg 6.701199e+04 train accuracy: 0.296122 val accuracy: 0.315000\n",
      "lr 5.975539e-07 reg 7.191347e+04 train accuracy: 0.281163 val accuracy: 0.300000\n",
      "lr 6.036611e-07 reg 6.985617e+04 train accuracy: 0.295918 val accuracy: 0.313000\n",
      "lr 6.080441e-07 reg 2.202240e+04 train accuracy: 0.331673 val accuracy: 0.343000\n",
      "lr 6.277103e-07 reg 9.773685e+04 train accuracy: 0.272592 val accuracy: 0.291000\n",
      "lr 7.067738e-07 reg 5.495310e+04 train accuracy: 0.308816 val accuracy: 0.323000\n",
      "lr 7.522492e-07 reg 4.103873e+04 train accuracy: 0.311694 val accuracy: 0.325000\n",
      "lr 7.920062e-07 reg 1.552511e+04 train accuracy: 0.346510 val accuracy: 0.349000\n",
      "lr 8.177680e-07 reg 9.175371e+04 train accuracy: 0.260551 val accuracy: 0.276000\n",
      "lr 9.284866e-07 reg 1.836807e+04 train accuracy: 0.330469 val accuracy: 0.342000\n",
      "lr 1.012288e-06 reg 6.017314e+04 train accuracy: 0.298735 val accuracy: 0.308000\n",
      "lr 1.053891e-06 reg 7.448554e+04 train accuracy: 0.285776 val accuracy: 0.291000\n",
      "lr 1.054723e-06 reg 1.259360e+04 train accuracy: 0.346449 val accuracy: 0.366000\n",
      "lr 1.073102e-06 reg 1.143058e+04 train accuracy: 0.345020 val accuracy: 0.359000\n",
      "lr 1.379257e-06 reg 1.641352e+04 train accuracy: 0.328082 val accuracy: 0.319000\n",
      "lr 1.441328e-06 reg 1.141586e+04 train accuracy: 0.340184 val accuracy: 0.364000\n",
      "lr 1.517132e-06 reg 7.158443e+04 train accuracy: 0.272061 val accuracy: 0.270000\n",
      "lr 1.705797e-06 reg 8.034527e+04 train accuracy: 0.255694 val accuracy: 0.268000\n",
      "lr 1.782892e-06 reg 1.437189e+04 train accuracy: 0.343816 val accuracy: 0.347000\n",
      "lr 1.831872e-06 reg 2.507519e+04 train accuracy: 0.319449 val accuracy: 0.319000\n",
      "lr 1.923606e-06 reg 1.988763e+04 train accuracy: 0.324000 val accuracy: 0.320000\n",
      "lr 1.941272e-06 reg 1.116486e+04 train accuracy: 0.342367 val accuracy: 0.351000\n",
      "lr 2.157946e-06 reg 6.986482e+04 train accuracy: 0.277918 val accuracy: 0.282000\n",
      "lr 2.513079e-06 reg 8.155106e+04 train accuracy: 0.267837 val accuracy: 0.272000\n",
      "lr 2.565325e-06 reg 1.361890e+04 train accuracy: 0.319673 val accuracy: 0.325000\n",
      "lr 2.687414e-06 reg 2.125879e+04 train accuracy: 0.290939 val accuracy: 0.312000\n",
      "lr 2.713636e-06 reg 1.071935e+04 train accuracy: 0.314653 val accuracy: 0.299000\n",
      "lr 2.773607e-06 reg 2.084833e+04 train accuracy: 0.291531 val accuracy: 0.315000\n",
      "lr 2.976225e-06 reg 8.126302e+04 train accuracy: 0.241510 val accuracy: 0.242000\n",
      "best validation accuracy achieved during cross-validation: 0.366000\n"
     ]
    }
   ],
   "source": [
    "# Use the validation set to tune hyperparameters (regularization strength and\n",
    "# learning rate). You should experiment with different ranges for the learning\n",
    "# rates and regularization strengths; if you are careful you should be able to\n",
    "# get a classification accuracy of over 0.35 on the validation set.\n",
    "from cs231n.classifiers import Softmax\n",
    "num_train = X_train.shape[0]\n",
    "num_val =X_val.shape[0]\n",
    "results = {}\n",
    "best_val = -1\n",
    "best_softmax = None\n",
    "# learning_rates = 10 ** np.random.uniform(-6.5, -5.5, 5)\n",
    "# regularization_strengths = 10 ** np.random.uniform(4, 5, 4)\n",
    "training_iters = 2000\n",
    "max_count = 40\n",
    "\n",
    "################################################################################\n",
    "# TODO:                                                                        #\n",
    "# Use the validation set to set the learning rate and regularization strength. #\n",
    "# This should be identical to the validation that you did for the SVM; save    #\n",
    "# the best trained softmax classifer in best_softmax.                          #\n",
    "################################################################################\n",
    "for count in range(max_count):\n",
    "    lr = 10 ** np.random.uniform(-6.5, -5.5)\n",
    "    reg = 10 ** np.random.uniform(4, 5)\n",
    "    \n",
    "    softmax = Softmax()\n",
    "    loss_hist = softmax.train(X_train, y_train, learning_rate=lr, reg=reg, num_iters=training_iters,\n",
    "                  batch_size=200, verbose=False)\n",
    "\n",
    "    y_train_pred = softmax.predict(X_train)\n",
    "    train_accuracy = np.sum(y_train_pred == y_train) / num_train\n",
    "\n",
    "    y_val_pred = softmax.predict(X_val)\n",
    "    val_accuracy = np.sum(y_val_pred == y_val) / num_val\n",
    "\n",
    "    results[(lr, reg)] = [train_accuracy, val_accuracy]\n",
    "\n",
    "    if val_accuracy > best_val:\n",
    "        best_softmax = softmax\n",
    "        best_val = val_accuracy\n",
    "pass\n",
    "################################################################################\n",
    "#                              END OF YOUR CODE                                #\n",
    "################################################################################\n",
    "    \n",
    "# Print out results.\n",
    "for lr, reg in sorted(results):\n",
    "    train_accuracy, val_accuracy = results[(lr, reg)]\n",
    "    print('lr %e reg %e train accuracy: %f val accuracy: %f' % (\n",
    "                lr, reg, train_accuracy, val_accuracy))\n",
    "    \n",
    "print('best validation accuracy achieved during cross-validation: %f' % best_val)"
   ]
  },
  {
   "cell_type": "code",
   "execution_count": 20,
   "metadata": {},
   "outputs": [
    {
     "name": "stdout",
     "output_type": "stream",
     "text": [
      "softmax on raw pixels final test set accuracy: 0.337000\n"
     ]
    }
   ],
   "source": [
    "# evaluate on test set\n",
    "# Evaluate the best softmax on test set\n",
    "y_test_pred = best_softmax.predict(X_test)\n",
    "test_accuracy = np.mean(y_test == y_test_pred)\n",
    "print('softmax on raw pixels final test set accuracy: %f' % (test_accuracy, ))"
   ]
  },
  {
   "cell_type": "code",
   "execution_count": 21,
   "metadata": {},
   "outputs": [
    {
     "data": {
      "image/png": "[encoded data removed]",
      "text/plain": [
       "<matplotlib.figure.Figure at 0x7f709db966d8>"
      ]
     },
     "metadata": {},
     "output_type": "display_data"
    }
   ],
   "source": [
    "# Visualize the learned weights for each class\n",
    "w = best_softmax.W[:-1,:] # strip out the bias\n",
    "w = w.reshape(32, 32, 3, 10)\n",
    "\n",
    "w_min, w_max = np.min(w), np.max(w)\n",
    "\n",
    "classes = ['plane', 'car', 'bird', 'cat', 'deer', 'dog', 'frog', 'horse', 'ship', 'truck']\n",
    "for i in range(10):\n",
    "    plt.subplot(2, 5, i + 1)\n",
    "    \n",
    "    # Rescale the weights to be between 0 and 255\n",
    "    wimg = 255.0 * (w[:, :, :, i].squeeze() - w_min) / (w_max - w_min)\n",
    "    plt.imshow(wimg.astype('uint8'))\n",
    "    plt.axis('off')\n",
    "    plt.title(classes[i])"
   ]
  },
  {
   "cell_type": "code",
   "execution_count": null,
   "metadata": {},
   "outputs": [],
   "source": []
  }
 ],
 "metadata": {
  "kernelspec": {
   "display_name": "Python 3",
   "language": "python",
   "name": "python3"
  },
  "language_info": {
   "codemirror_mode": {
    "name": "ipython",
    "version": 3
   },
   "file_extension": ".py",
   "mimetype": "text/x-python",
   "name": "python",
   "nbconvert_exporter": "python",
   "pygments_lexer": "ipython3",
   "version": "3.7.0"
  }
 },
 "nbformat": 4,
 "nbformat_minor": 1
}
